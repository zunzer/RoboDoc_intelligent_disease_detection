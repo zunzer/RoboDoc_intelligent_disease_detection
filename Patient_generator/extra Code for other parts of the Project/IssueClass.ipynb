{
 "cells": [
  {
   "cell_type": "code",
   "execution_count": 1,
   "metadata": {},
   "outputs": [
    {
     "data": {
      "text/plain": [
       "'\\n    how to work with this ? \\n    \\n            -> get Issue:      myissue = issue(ID)\\n                \\n                now get Infos for Issue:\\n                    \\n                    myissue.Description -> str: Description  ...\\n                    \\n                    ...\\n    minimal ~¹²³\\n\\n'"
      ]
     },
     "execution_count": 1,
     "metadata": {},
     "output_type": "execute_result"
    }
   ],
   "source": [
    "import json\n",
    "class issue:\n",
    "\n",
    "    def __init__(self,IssueId):\n",
    "        name = 'Diseases/Issue{}.json'.format(IssueId)\n",
    "        with open(name) as json_file:\n",
    "            data = json.load(json_file)\n",
    "             #   Keys = ['Description', 'DescriptionShort', 'MedicalCondition', 'Name', 'PossibleSymptoms', 'ProfName', 'Synonyms', 'TreatmentDescription']\n",
    "            self.Description = data['Description']\n",
    "            self.DescriptionShort = data['DescriptionShort']\n",
    "            self.MedicalCondition = data['MedicalCondition']\n",
    "            self.Name = data['Name']\n",
    "            self.PossibleSymptoms = data['PossibleSymptoms']\n",
    "            self.TreatmentDescription = data['TreatmentDescription']\n",
    "            \n",
    "'''\n",
    "    how to work with this ? \n",
    "    \n",
    "            -> get Issue:      myissue = issue(ID)\n",
    "                \n",
    "                now get Infos for Issue:\n",
    "                    \n",
    "                    myissue.Description -> str: Description  ...\n",
    "                    \n",
    "                    ...\n",
    "    minimal ~¹²³\n",
    "\n",
    "'''"
   ]
  },
  {
   "cell_type": "code",
   "execution_count": null,
   "metadata": {},
   "outputs": [],
   "source": []
  }
 ],
 "metadata": {
  "kernelspec": {
   "display_name": "Python 3",
   "language": "python",
   "name": "python3"
  },
  "language_info": {
   "codemirror_mode": {
    "name": "ipython",
    "version": 3
   },
   "file_extension": ".py",
   "mimetype": "text/x-python",
   "name": "python",
   "nbconvert_exporter": "python",
   "pygments_lexer": "ipython3",
   "version": "3.6.9"
  }
 },
 "nbformat": 4,
 "nbformat_minor": 2
}
